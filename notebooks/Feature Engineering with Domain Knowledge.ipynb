{
 "cells": [
  {
   "cell_type": "markdown",
   "metadata": {
    "application/vnd.databricks.v1+cell": {
     "cellMetadata": {
      "byteLimit": 2048000,
      "rowLimit": 10000
     },
     "inputWidgets": {},
     "nuid": "00c281d0-d0a8-4c49-94b6-3676729e49e8",
     "showTitle": false,
     "tableResultSettingsMap": {},
     "title": ""
    }
   },
   "source": [
    "# Introduction\n",
    "The notebook demonstrates the importance of feature engineering with domain knowledge with a 'controlled' experiment. It shows that relevant features can dramatically improve ML model performance. \n",
    "\n",
    "\n",
    "The notebook has two main components: \n",
    "1. Input and output experiment data generation, \n",
    "2. Model comparison with raw data, 'wrong' features, and features based on domain knowledge\n",
    "\n",
    "**Experiment Background**\n",
    "\n",
    "We have daily transactional prescription claims data for dozens patients with chronic illness for one year. Following clinical knowledge, we artifically generated \"hospital visit\" outcomes based on the medication adherence rate; that is, the patient will have a \"hospital visit\" if the adherence rate (measured by Proportion of Days Covered) is less than 80% in a year. \n",
    "\n",
    "**Reference**\n",
    "\n",
    "Proportion of Days Covered (PDC) is the preferred method to measure medication adherence. The PDC threshold is the level above which the medication has a reasonable likelihood of achieving the most clinical benefit. Clinical evidence provides support for a standard PDC threshold of 80%. \n",
    "\n"
   ]
  },
  {
   "cell_type": "markdown",
   "metadata": {
    "application/vnd.databricks.v1+cell": {
     "cellMetadata": {
      "byteLimit": 2048000,
      "rowLimit": 10000
     },
     "inputWidgets": {},
     "nuid": "df5b20e6-9704-4916-ad59-474105cfa670",
     "showTitle": false,
     "tableResultSettingsMap": {},
     "title": ""
    }
   },
   "source": [
    "# Preparation: A Simple Classification Model"
   ]
  },
  {
   "cell_type": "code",
   "execution_count": 0,
   "metadata": {
    "application/vnd.databricks.v1+cell": {
     "cellMetadata": {
      "byteLimit": 2048000,
      "rowLimit": 10000
     },
     "inputWidgets": {},
     "nuid": "890fed72-39ef-4d5f-81a9-babc0503af01",
     "showTitle": false,
     "tableResultSettingsMap": {},
     "title": ""
    }
   },
   "outputs": [],
   "source": [
    "from sklearn.linear_model import LogisticRegression\n",
    "from sklearn.model_selection import train_test_split\n",
    "from sklearn.metrics import classification_report\n",
    "\n",
    "\n",
    "def simple_classification_model(X, y):\n",
    "    \"\"\"A simple classification model for demo purpose\"\"\"\n",
    "    X_train, X_test, y_train, y_test = train_test_split(\n",
    "        X, y, test_size=0.25, random_state=16\n",
    "    )\n",
    "\n",
    "    logreg = LogisticRegression(random_state=16)\n",
    "    logreg.fit(X_train, y_train)\n",
    "\n",
    "    y_pred = logreg.predict(X_test)\n",
    "\n",
    "    return classification_report(y_test, y_pred)"
   ]
  },
  {
   "cell_type": "markdown",
   "metadata": {
    "application/vnd.databricks.v1+cell": {
     "cellMetadata": {
      "byteLimit": 2048000,
      "rowLimit": 10000
     },
     "inputWidgets": {},
     "nuid": "272f3d5e-0099-46a0-8185-92e913fd74fb",
     "showTitle": false,
     "tableResultSettingsMap": {},
     "title": ""
    }
   },
   "source": [
    "# Experiment Data Generation"
   ]
  },
  {
   "cell_type": "markdown",
   "metadata": {
    "application/vnd.databricks.v1+cell": {
     "cellMetadata": {
      "byteLimit": 2048000,
      "rowLimit": 10000
     },
     "inputWidgets": {},
     "nuid": "1fbfb922-b858-4fa2-b7ae-2e9da0987a5c",
     "showTitle": false,
     "tableResultSettingsMap": {},
     "title": ""
    }
   },
   "source": [
    "## Input Data: Randomly Generated Prescription Claims Data"
   ]
  },
  {
   "cell_type": "code",
   "execution_count": 0,
   "metadata": {
    "application/vnd.databricks.v1+cell": {
     "cellMetadata": {
      "byteLimit": 2048000,
      "rowLimit": 10000
     },
     "inputWidgets": {},
     "nuid": "04373357-91a6-472a-9603-8aa2a684f582",
     "showTitle": false,
     "tableResultSettingsMap": {},
     "title": ""
    }
   },
   "outputs": [],
   "source": [
    "import pandas as pd\n",
    "import numpy as np\n",
    "\n",
    "np.random.seed(42)  # For reproducibility\n",
    "\n",
    "num_of_days = 28 * 12\n",
    "dates = pd.date_range(start=\"2023-01-01\", periods=num_of_days, freq=\"D\")\n",
    "patient_ids = np.random.randint(1, 28 * 2, size=num_of_days)\n",
    "covered_days = np.random.randint(28, 28 * 2, size=num_of_days)\n",
    "\n",
    "df_rx_claims = pd.DataFrame(\n",
    "    {\"Date\": dates, \"Patient\": patient_ids, \"Covered Days\": covered_days}\n",
    ")\n",
    "df_rx_claims.head()"
   ]
  },
  {
   "cell_type": "markdown",
   "metadata": {
    "application/vnd.databricks.v1+cell": {
     "cellMetadata": {
      "byteLimit": 2048000,
      "rowLimit": 10000
     },
     "inputWidgets": {},
     "nuid": "aa39d72d-4271-4a80-92b0-0b22673f6bec",
     "showTitle": false,
     "tableResultSettingsMap": {},
     "title": ""
    }
   },
   "source": [
    "## Output Data: Outcome based on Clinical Knowledge"
   ]
  },
  {
   "cell_type": "code",
   "execution_count": 0,
   "metadata": {
    "application/vnd.databricks.v1+cell": {
     "cellMetadata": {
      "byteLimit": 2048000,
      "rowLimit": 10000
     },
     "inputWidgets": {},
     "nuid": "ab092978-74eb-4192-9c59-33aae16e5353",
     "showTitle": false,
     "tableResultSettingsMap": {},
     "title": ""
    }
   },
   "outputs": [],
   "source": [
    "df_patient = df_rx_claims.groupby(\"Patient\").agg(\n",
    "    total_covered_days=(\"Covered Days\", \"sum\"),\n",
    "    avg_covered_days=(\"Covered Days\", \"mean\"),\n",
    ").reset_index()\n",
    "\n",
    "df_patient = df_patient.rename(columns={\"total_covered_days\": \"Total Covered Days\", \"avg_covered_days\": \"Avg. Covered Days\"})\n",
    "\n",
    "df_patient[\"Proportion of Days Covered (PDC)\"] = (\n",
    "    df_patient[\"Total Covered Days\"] / num_of_days\n",
    ")\n",
    "df_patient[\"Hospital Visit\"] = df_patient[\"Proportion of Days Covered (PDC)\"] < 0.8\n",
    "df_patient[\"Hospital Visit\"].value_counts()"
   ]
  },
  {
   "cell_type": "markdown",
   "metadata": {
    "application/vnd.databricks.v1+cell": {
     "cellMetadata": {
      "byteLimit": 2048000,
      "rowLimit": 10000
     },
     "inputWidgets": {},
     "nuid": "b308f15b-6c78-4e48-a964-3d1f33e69044",
     "showTitle": false,
     "tableResultSettingsMap": {},
     "title": ""
    }
   },
   "source": [
    "# Model Performance Comparison"
   ]
  },
  {
   "cell_type": "markdown",
   "metadata": {
    "application/vnd.databricks.v1+cell": {
     "cellMetadata": {
      "byteLimit": 2048000,
      "rowLimit": 10000
     },
     "inputWidgets": {},
     "nuid": "2dde351f-9278-4af6-960f-da3c11436adb",
     "showTitle": false,
     "tableResultSettingsMap": {},
     "title": ""
    }
   },
   "source": [
    "## Raw Data"
   ]
  },
  {
   "cell_type": "code",
   "execution_count": 0,
   "metadata": {
    "application/vnd.databricks.v1+cell": {
     "cellMetadata": {
      "byteLimit": 2048000,
      "rowLimit": 10000
     },
     "inputWidgets": {},
     "nuid": "ee1377a6-570e-4283-a787-f0ee674ca1a1",
     "showTitle": false,
     "tableResultSettingsMap": {},
     "title": ""
    }
   },
   "outputs": [],
   "source": [
    "# Raw Data\n",
    "df_rx_claims_with_outcome = df_rx_claims.join(df_patient[['Patient', 'Hospital Visit']].set_index('Patient'), on='Patient')\n",
    "X = df_rx_claims_with_outcome[['Covered Days']]\n",
    "y = df_rx_claims_with_outcome['Hospital Visit'] \n",
    "print(simple_classification_model(X, y))"
   ]
  },
  {
   "cell_type": "markdown",
   "metadata": {
    "application/vnd.databricks.v1+cell": {
     "cellMetadata": {
      "byteLimit": 2048000,
      "rowLimit": 10000
     },
     "inputWidgets": {},
     "nuid": "2c592ebb-d36f-4198-991c-0b01ac48766f",
     "showTitle": false,
     "tableResultSettingsMap": {},
     "title": ""
    }
   },
   "source": [
    "## Feature Engineering without Domain Knowledge"
   ]
  },
  {
   "cell_type": "code",
   "execution_count": 0,
   "metadata": {
    "application/vnd.databricks.v1+cell": {
     "cellMetadata": {
      "byteLimit": 2048000,
      "rowLimit": 10000
     },
     "inputWidgets": {},
     "nuid": "6d3242d0-7cd9-47e9-831e-5ce7401f0548",
     "showTitle": false,
     "tableResultSettingsMap": {},
     "title": ""
    }
   },
   "outputs": [],
   "source": [
    "# Feature Engineering without Domain Knowledge\n",
    "X = df_patient[['Avg. Covered Days']] \n",
    "y = df_patient['Hospital Visit'] \n",
    "print(simple_classification_model(X, y))"
   ]
  },
  {
   "cell_type": "markdown",
   "metadata": {
    "application/vnd.databricks.v1+cell": {
     "cellMetadata": {
      "byteLimit": 2048000,
      "rowLimit": 10000
     },
     "inputWidgets": {},
     "nuid": "79f1448b-7842-4c7d-a021-26a6994b3609",
     "showTitle": false,
     "tableResultSettingsMap": {},
     "title": ""
    }
   },
   "source": [
    "## Feature Engineering with Domain Knowledge"
   ]
  },
  {
   "cell_type": "code",
   "execution_count": 0,
   "metadata": {
    "application/vnd.databricks.v1+cell": {
     "cellMetadata": {
      "byteLimit": 2048000,
      "rowLimit": 10000
     },
     "inputWidgets": {},
     "nuid": "ff1b279f-35b1-48e1-bb2f-e92e34577b7b",
     "showTitle": false,
     "tableResultSettingsMap": {},
     "title": ""
    }
   },
   "outputs": [],
   "source": [
    "# Feature Engineering with Domain Knowledge\n",
    "X = df_patient[['Proportion of Days Covered (PDC)']] \n",
    "y = df_patient['Hospital Visit'] \n",
    "print(simple_classification_model(X, y))"
   ]
  }
 ],
 "metadata": {
  "application/vnd.databricks.v1+notebook": {
   "dashboards": [],
   "environmentMetadata": null,
   "language": "python",
   "notebookMetadata": {
    "pythonIndentUnit": 2
   },
   "notebookName": "Feature Engineering with Domain Knowledge",
   "widgets": {}
  },
  "language_info": {
   "name": "python"
  }
 },
 "nbformat": 4,
 "nbformat_minor": 0
}
